{
 "cells": [
  {
   "cell_type": "markdown",
   "id": "9907496e",
   "metadata": {},
   "source": [
    "# DIY 1:Finding the cube root of a number and printing the time the code takes to execute"
   ]
  },
  {
   "cell_type": "code",
   "execution_count": 6,
   "id": "f8a38dbe",
   "metadata": {},
   "outputs": [
    {
     "name": "stdout",
     "output_type": "stream",
     "text": [
      "Enter a positive integer: 5\n",
      "5\n",
      "The time taken is 0.0\n"
     ]
    }
   ],
   "source": [
    "import time\n",
    "max_val = int(input('Enter a positive integer: '))\n",
    "i = 0\n",
    "initial_time = time.time()\n",
    "while i < max_val:\n",
    "     i = i + 1\n",
    "print(i)\n",
    "final_time = time.time()\n",
    "print(f\"The time taken is {final_time - initial_time}\")"
   ]
  },
  {
   "cell_type": "markdown",
   "id": "487b108c",
   "metadata": {},
   "source": [
    "# DIY 2: Testing if a number is prime and returning the largest divisor if not prime"
   ]
  },
  {
   "cell_type": "code",
   "execution_count": 9,
   "id": "6b825686",
   "metadata": {},
   "outputs": [
    {
     "name": "stdout",
     "output_type": "stream",
     "text": [
      "Enter an integer greater than 2: 70\n",
      "Largest divisor of 70 is 35\n"
     ]
    }
   ],
   "source": [
    "\n",
    "x = int(input('Enter an integer greater than 2: '))\n",
    "smallest_divisor = None\n",
    "for guess in range(2, x):\n",
    "    if x % guess == 0:\n",
    "        smallest_divisor = guess\n",
    "        largest_divisor = int(x/smallest_divisor)\n",
    "        break\n",
    "if smallest_divisor != None:\n",
    "    print('Largest divisor of', x, 'is', largest_divisor)\n",
    "else:\n",
    "    print(x, 'is a prime number')"
   ]
  },
  {
   "cell_type": "markdown",
   "id": "47740068",
   "metadata": {},
   "source": [
    "# DIY 3: A program that prints the sum of the prime numbers greater than 2 and less than 1000"
   ]
  },
  {
   "cell_type": "code",
   "execution_count": 10,
   "id": "fd89bc26",
   "metadata": {},
   "outputs": [
    {
     "name": "stdout",
     "output_type": "stream",
     "text": [
      "76125\n"
     ]
    }
   ],
   "source": [
    "def is_prime(n):\n",
    "    if n <= 1:\n",
    "        return False\n",
    "    for i in range(2, int(n**0.5)+1):\n",
    "        if n % i == 0:\n",
    "            return False\n",
    "    return True\n",
    "\n",
    "sum = 0\n",
    "for i in range(3, 1000):\n",
    "    if is_prime(i):\n",
    "        sum += i\n",
    "\n",
    "print(sum)"
   ]
  },
  {
   "cell_type": "markdown",
   "id": "14c95b9c",
   "metadata": {},
   "source": [
    "# DIY 4:A code to use bisection method to find the square root of x, hand plots a graph of number of digits in the number vs number of tries then comment on the shape of the curve"
   ]
  },
  {
   "cell_type": "code",
   "execution_count": 1,
   "id": "b7dbf79c",
   "metadata": {},
   "outputs": [
    {
     "name": "stdout",
     "output_type": "stream",
     "text": [
      "Enter a number: 123456\n",
      "low = 0 high = 123456 ans = 61728.0\n",
      "low = 0 high = 61728.0 ans = 30864.0\n",
      "low = 0 high = 30864.0 ans = 15432.0\n",
      "low = 0 high = 15432.0 ans = 7716.0\n",
      "low = 0 high = 7716.0 ans = 3858.0\n",
      "low = 0 high = 3858.0 ans = 1929.0\n",
      "low = 0 high = 1929.0 ans = 964.5\n",
      "low = 0 high = 964.5 ans = 482.25\n",
      "low = 0 high = 482.25 ans = 241.125\n",
      "low = 241.125 high = 482.25 ans = 361.6875\n",
      "low = 241.125 high = 361.6875 ans = 301.40625\n",
      "low = 301.40625 high = 361.6875 ans = 331.546875\n",
      "low = 331.546875 high = 361.6875 ans = 346.6171875\n",
      "low = 346.6171875 high = 361.6875 ans = 354.15234375\n",
      "low = 346.6171875 high = 354.15234375 ans = 350.384765625\n",
      "low = 350.384765625 high = 354.15234375 ans = 352.2685546875\n",
      "low = 350.384765625 high = 352.2685546875 ans = 351.32666015625\n",
      "low = 351.32666015625 high = 352.2685546875 ans = 351.797607421875\n",
      "low = 351.32666015625 high = 351.797607421875 ans = 351.5621337890625\n",
      "low = 351.32666015625 high = 351.5621337890625 ans = 351.44439697265625\n",
      "low = 351.32666015625 high = 351.44439697265625 ans = 351.3855285644531\n",
      "low = 351.32666015625 high = 351.3855285644531 ans = 351.35609436035156\n",
      "low = 351.35609436035156 high = 351.3855285644531 ans = 351.37081146240234\n",
      "low = 351.35609436035156 high = 351.37081146240234 ans = 351.36345291137695\n",
      "low = 351.35609436035156 high = 351.36345291137695 ans = 351.35977363586426\n",
      "low = 351.35977363586426 high = 351.36345291137695 ans = 351.3616132736206\n",
      "low = 351.3616132736206 high = 351.36345291137695 ans = 351.3625330924988\n",
      "low = 351.3625330924988 high = 351.36345291137695 ans = 351.36299300193787\n",
      "low = 351.36299300193787 high = 351.36345291137695 ans = 351.3632229566574\n",
      "low = 351.36299300193787 high = 351.3632229566574 ans = 351.36310797929764\n",
      "Number of guesses = 30\n",
      "351.36305049061775 is close to square root of 123456\n"
     ]
    }
   ],
   "source": [
    "## This code would use bisection method to find the square root of x\n",
    "x = 123456\n",
    "epsilon = 0.01     #uses accuracy of 0.01\n",
    "num_guesses, low = 0, 0\n",
    "x = int(input(\"Enter a number: \"))\n",
    "high = max(1, x)\n",
    "ans = (high + low) / 2\n",
    "\n",
    "while abs(ans**2 - x) >= epsilon:\n",
    "    print('low =', low, 'high =', high, 'ans =', ans)\n",
    "    num_guesses += 1\n",
    "    if ans**2 < x:\n",
    "        low = ans\n",
    "    else:\n",
    "        high = ans\n",
    "    ans = (high + low) / 2\n",
    "\n",
    "print('Number of guesses =', num_guesses)\n",
    "print(ans, 'is close to square root of', x)\n"
   ]
  },
  {
   "cell_type": "code",
   "execution_count": 19,
   "id": "610e9fd3",
   "metadata": {},
   "outputs": [
    {
     "data": {
      "image/png": "[encoded data removed]",
      "text/plain": [
       "<Figure size 640x480 with 1 Axes>"
      ]
     },
     "metadata": {},
     "output_type": "display_data"
    }
   ],
   "source": [
    "import random\n",
    "import matplotlib.pyplot as plt\n",
    "\n",
    "x = 123456\n",
    "epsilon = 0.01\n",
    "num_guesses = []\n",
    "num_digits = []\n",
    "low = 0\n",
    "high = max(1, x)\n",
    "ans = (high + low) / 2\n",
    "n_guesses = 0\n",
    "\n",
    "while abs(ans**2 - x) >= epsilon:\n",
    "        n_guesses += 1\n",
    "        if ans**2 < x:\n",
    "            low = ans\n",
    "        else:\n",
    "            high = ans\n",
    "        ans = (high + low) / 2\n",
    "\n",
    "        num_guesses.append(n_guesses)\n",
    "        num_digits.append(len(str(x)))\n",
    "\n",
    "plt.scatter(num_digits, num_guesses)\n",
    "plt.xlabel(\"Number of Digits\")\n",
    "plt.ylabel(\"Number of Guesses\")\n",
    "plt.title(\"Number of Guesses vs. Number of Digits\")\n",
    "plt.show()\n"
   ]
  },
  {
   "cell_type": "markdown",
   "id": "145f051a",
   "metadata": {},
   "source": [
    "# DIY 5: A program to find product of two numbers by summing the log of two numbers and finding the antilog"
   ]
  },
  {
   "cell_type": "code",
   "execution_count": 11,
   "id": "29616bc9",
   "metadata": {},
   "outputs": [
    {
     "name": "stdout",
     "output_type": "stream",
     "text": [
      "Enter the first number: 1\n",
      "Enter the second number: 7\n",
      "The product of 1 and 7 is 7\n"
     ]
    }
   ],
   "source": [
    "import math\n",
    "first_number = int(input(\"Enter the first number: \"))\n",
    "second_number = int(input(\"Enter the second number: \"))\n",
    "\n",
    "log_first_number = math.log(first_number,10) #finding the log of the first number\n",
    "log_second_number = math.log(second_number,10) #finding the log of the second number\n",
    "sum_of_logs = log_first_number + log_second_number #summing the log of the two numbers\n",
    "\n",
    "anti_log = round(10**sum_of_logs)\n",
    "\n",
    "print(f\"The product of {first_number} and {second_number} is {anti_log}\" )"
   ]
  },
  {
   "cell_type": "markdown",
   "id": "6efbaa37",
   "metadata": {},
   "source": [
    "# DIY 6: A program to retrofit the above code to receive value of gain and print out the dB value\n"
   ]
  },
  {
   "cell_type": "code",
   "execution_count": 12,
   "id": "bb5bfdc0",
   "metadata": {},
   "outputs": [
    {
     "name": "stdout",
     "output_type": "stream",
     "text": [
      "Enter the value of gain: 5\n",
      "The gain is 5.0, which is equivalent to 15.05 dB.\n"
     ]
    }
   ],
   "source": [
    "import math\n",
    "\n",
    "epsilon = 0.01\n",
    "gain = float(input(\"Enter the value of gain: \"))\n",
    "x = 2 ** gain\n",
    "\n",
    "# Find lower bound on ans\n",
    "lower_bound = 0\n",
    "while 2 ** lower_bound < x:\n",
    "    lower_bound += 1\n",
    "low = lower_bound - 1\n",
    "high = lower_bound + 1\n",
    "\n",
    "# Perform bisection research\n",
    "ans = (high + low) / 2\n",
    "while abs(2 ** ans - x) >= epsilon:\n",
    "    if 2 ** ans < x:\n",
    "        low = ans\n",
    "    else:\n",
    "        high = ans\n",
    "    ans = (high + low) / 2\n",
    "\n",
    "# Convert ans to dB\n",
    "dB = 10 * math.log10(x)\n",
    "\n",
    "print(f\"The gain is {gain}, which is equivalent to {dB:.2f} dB.\")"
   ]
  },
  {
   "cell_type": "code",
   "execution_count": null,
   "id": "5d88e34d",
   "metadata": {},
   "outputs": [],
   "source": []
  }
 ],
 "metadata": {
  "kernelspec": {
   "display_name": "Python 3 (ipykernel)",
   "language": "python",
   "name": "python3"
  },
  "language_info": {
   "codemirror_mode": {
    "name": "ipython",
    "version": 3
   },
   "file_extension": ".py",
   "mimetype": "text/x-python",
   "name": "python",
   "nbconvert_exporter": "python",
   "pygments_lexer": "ipython3",
   "version": "3.10.9"
  }
 },
 "nbformat": 4,
 "nbformat_minor": 5
}
